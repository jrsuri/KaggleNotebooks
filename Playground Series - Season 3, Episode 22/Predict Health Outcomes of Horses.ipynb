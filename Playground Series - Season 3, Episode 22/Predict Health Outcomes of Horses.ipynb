{
 "cells": [
  {
   "cell_type": "code",
   "execution_count": 1,
   "metadata": {},
   "outputs": [],
   "source": [
    "# import subprocess\n",
    "# import sys\n",
    "\n",
    "# def install_requirements():\n",
    "#     try:\n",
    "#         subprocess.check_call([sys.executable, '-m', 'pip', 'install', '-r', 'requirements.txt'])\n",
    "#     except subprocess.CalledProcessError as e:\n",
    "#         print(f'An error occurred: {e}')\n",
    "#         sys.exit(1)\n",
    "\n",
    "# install_requirements()\n",
    "\n",
    "import pandas as pd\n",
    "import matplotlib.pyplot as plt\n",
    "import seaborn as sns\n",
    "import numpy as np\n",
    "from sklearn.preprocessing import LabelEncoder\n",
    "from scipy.stats import ttest_ind, f_oneway, kruskal, spearmanr, chi2_contingency\n",
    "from sklearn.preprocessing import OneHotEncoder\n",
    "from IPython.core.interactiveshell import InteractiveShell\n",
    "\n",
    "InteractiveShell.ast_node_interactivity = 'all'\n",
    "pd.set_option('display.max_columns', None)"
   ]
  },
  {
   "cell_type": "code",
   "execution_count": 2,
   "metadata": {},
   "outputs": [
    {
     "data": {
      "text/html": [
       "<div>\n",
       "<style scoped>\n",
       "    .dataframe tbody tr th:only-of-type {\n",
       "        vertical-align: middle;\n",
       "    }\n",
       "\n",
       "    .dataframe tbody tr th {\n",
       "        vertical-align: top;\n",
       "    }\n",
       "\n",
       "    .dataframe thead th {\n",
       "        text-align: right;\n",
       "    }\n",
       "</style>\n",
       "<table border=\"1\" class=\"dataframe\">\n",
       "  <thead>\n",
       "    <tr style=\"text-align: right;\">\n",
       "      <th></th>\n",
       "      <th>id</th>\n",
       "      <th>surgery</th>\n",
       "      <th>age</th>\n",
       "      <th>hospital_number</th>\n",
       "      <th>rectal_temp</th>\n",
       "      <th>pulse</th>\n",
       "      <th>respiratory_rate</th>\n",
       "      <th>temp_of_extremities</th>\n",
       "      <th>peripheral_pulse</th>\n",
       "      <th>mucous_membrane</th>\n",
       "      <th>capillary_refill_time</th>\n",
       "      <th>pain</th>\n",
       "      <th>peristalsis</th>\n",
       "      <th>abdominal_distention</th>\n",
       "      <th>nasogastric_tube</th>\n",
       "      <th>nasogastric_reflux</th>\n",
       "      <th>nasogastric_reflux_ph</th>\n",
       "      <th>rectal_exam_feces</th>\n",
       "      <th>abdomen</th>\n",
       "      <th>packed_cell_volume</th>\n",
       "      <th>total_protein</th>\n",
       "      <th>abdomo_appearance</th>\n",
       "      <th>abdomo_protein</th>\n",
       "      <th>surgical_lesion</th>\n",
       "      <th>lesion_1</th>\n",
       "      <th>lesion_2</th>\n",
       "      <th>lesion_3</th>\n",
       "      <th>cp_data</th>\n",
       "      <th>outcome</th>\n",
       "    </tr>\n",
       "  </thead>\n",
       "  <tbody>\n",
       "    <tr>\n",
       "      <th>0</th>\n",
       "      <td>0</td>\n",
       "      <td>yes</td>\n",
       "      <td>adult</td>\n",
       "      <td>530001</td>\n",
       "      <td>38.1</td>\n",
       "      <td>132.0</td>\n",
       "      <td>24.0</td>\n",
       "      <td>cool</td>\n",
       "      <td>reduced</td>\n",
       "      <td>dark_cyanotic</td>\n",
       "      <td>more_3_sec</td>\n",
       "      <td>depressed</td>\n",
       "      <td>absent</td>\n",
       "      <td>slight</td>\n",
       "      <td>slight</td>\n",
       "      <td>less_1_liter</td>\n",
       "      <td>6.5</td>\n",
       "      <td>decreased</td>\n",
       "      <td>distend_small</td>\n",
       "      <td>57.0</td>\n",
       "      <td>8.5</td>\n",
       "      <td>serosanguious</td>\n",
       "      <td>3.4</td>\n",
       "      <td>yes</td>\n",
       "      <td>2209</td>\n",
       "      <td>0</td>\n",
       "      <td>0</td>\n",
       "      <td>no</td>\n",
       "      <td>died</td>\n",
       "    </tr>\n",
       "    <tr>\n",
       "      <th>1</th>\n",
       "      <td>1</td>\n",
       "      <td>yes</td>\n",
       "      <td>adult</td>\n",
       "      <td>533836</td>\n",
       "      <td>37.5</td>\n",
       "      <td>88.0</td>\n",
       "      <td>12.0</td>\n",
       "      <td>cool</td>\n",
       "      <td>normal</td>\n",
       "      <td>pale_cyanotic</td>\n",
       "      <td>more_3_sec</td>\n",
       "      <td>mild_pain</td>\n",
       "      <td>absent</td>\n",
       "      <td>moderate</td>\n",
       "      <td>none</td>\n",
       "      <td>more_1_liter</td>\n",
       "      <td>2.0</td>\n",
       "      <td>absent</td>\n",
       "      <td>distend_small</td>\n",
       "      <td>33.0</td>\n",
       "      <td>64.0</td>\n",
       "      <td>serosanguious</td>\n",
       "      <td>2.0</td>\n",
       "      <td>yes</td>\n",
       "      <td>2208</td>\n",
       "      <td>0</td>\n",
       "      <td>0</td>\n",
       "      <td>no</td>\n",
       "      <td>euthanized</td>\n",
       "    </tr>\n",
       "    <tr>\n",
       "      <th>2</th>\n",
       "      <td>2</td>\n",
       "      <td>yes</td>\n",
       "      <td>adult</td>\n",
       "      <td>529812</td>\n",
       "      <td>38.3</td>\n",
       "      <td>120.0</td>\n",
       "      <td>28.0</td>\n",
       "      <td>cool</td>\n",
       "      <td>reduced</td>\n",
       "      <td>pale_pink</td>\n",
       "      <td>less_3_sec</td>\n",
       "      <td>extreme_pain</td>\n",
       "      <td>hypomotile</td>\n",
       "      <td>moderate</td>\n",
       "      <td>slight</td>\n",
       "      <td>none</td>\n",
       "      <td>3.5</td>\n",
       "      <td>None</td>\n",
       "      <td>distend_large</td>\n",
       "      <td>37.0</td>\n",
       "      <td>6.4</td>\n",
       "      <td>serosanguious</td>\n",
       "      <td>3.4</td>\n",
       "      <td>yes</td>\n",
       "      <td>5124</td>\n",
       "      <td>0</td>\n",
       "      <td>0</td>\n",
       "      <td>no</td>\n",
       "      <td>lived</td>\n",
       "    </tr>\n",
       "    <tr>\n",
       "      <th>3</th>\n",
       "      <td>3</td>\n",
       "      <td>yes</td>\n",
       "      <td>adult</td>\n",
       "      <td>5262541</td>\n",
       "      <td>37.1</td>\n",
       "      <td>72.0</td>\n",
       "      <td>30.0</td>\n",
       "      <td>cold</td>\n",
       "      <td>reduced</td>\n",
       "      <td>pale_pink</td>\n",
       "      <td>more_3_sec</td>\n",
       "      <td>mild_pain</td>\n",
       "      <td>hypomotile</td>\n",
       "      <td>moderate</td>\n",
       "      <td>slight</td>\n",
       "      <td>more_1_liter</td>\n",
       "      <td>2.0</td>\n",
       "      <td>decreased</td>\n",
       "      <td>distend_small</td>\n",
       "      <td>53.0</td>\n",
       "      <td>7.0</td>\n",
       "      <td>cloudy</td>\n",
       "      <td>3.9</td>\n",
       "      <td>yes</td>\n",
       "      <td>2208</td>\n",
       "      <td>0</td>\n",
       "      <td>0</td>\n",
       "      <td>yes</td>\n",
       "      <td>lived</td>\n",
       "    </tr>\n",
       "    <tr>\n",
       "      <th>4</th>\n",
       "      <td>4</td>\n",
       "      <td>no</td>\n",
       "      <td>adult</td>\n",
       "      <td>5299629</td>\n",
       "      <td>38.0</td>\n",
       "      <td>52.0</td>\n",
       "      <td>48.0</td>\n",
       "      <td>normal</td>\n",
       "      <td>normal</td>\n",
       "      <td>normal_pink</td>\n",
       "      <td>less_3_sec</td>\n",
       "      <td>alert</td>\n",
       "      <td>hypomotile</td>\n",
       "      <td>none</td>\n",
       "      <td>slight</td>\n",
       "      <td>less_1_liter</td>\n",
       "      <td>7.0</td>\n",
       "      <td>normal</td>\n",
       "      <td>normal</td>\n",
       "      <td>47.0</td>\n",
       "      <td>7.3</td>\n",
       "      <td>cloudy</td>\n",
       "      <td>2.6</td>\n",
       "      <td>no</td>\n",
       "      <td>0</td>\n",
       "      <td>0</td>\n",
       "      <td>0</td>\n",
       "      <td>yes</td>\n",
       "      <td>lived</td>\n",
       "    </tr>\n",
       "  </tbody>\n",
       "</table>\n",
       "</div>"
      ],
      "text/plain": [
       "   id surgery    age  hospital_number  rectal_temp  pulse  respiratory_rate  \\\n",
       "0   0     yes  adult           530001         38.1  132.0              24.0   \n",
       "1   1     yes  adult           533836         37.5   88.0              12.0   \n",
       "2   2     yes  adult           529812         38.3  120.0              28.0   \n",
       "3   3     yes  adult          5262541         37.1   72.0              30.0   \n",
       "4   4      no  adult          5299629         38.0   52.0              48.0   \n",
       "\n",
       "  temp_of_extremities peripheral_pulse mucous_membrane capillary_refill_time  \\\n",
       "0                cool          reduced   dark_cyanotic            more_3_sec   \n",
       "1                cool           normal   pale_cyanotic            more_3_sec   \n",
       "2                cool          reduced       pale_pink            less_3_sec   \n",
       "3                cold          reduced       pale_pink            more_3_sec   \n",
       "4              normal           normal     normal_pink            less_3_sec   \n",
       "\n",
       "           pain peristalsis abdominal_distention nasogastric_tube  \\\n",
       "0     depressed      absent               slight           slight   \n",
       "1     mild_pain      absent             moderate             none   \n",
       "2  extreme_pain  hypomotile             moderate           slight   \n",
       "3     mild_pain  hypomotile             moderate           slight   \n",
       "4         alert  hypomotile                 none           slight   \n",
       "\n",
       "  nasogastric_reflux  nasogastric_reflux_ph rectal_exam_feces        abdomen  \\\n",
       "0       less_1_liter                    6.5         decreased  distend_small   \n",
       "1       more_1_liter                    2.0            absent  distend_small   \n",
       "2               none                    3.5              None  distend_large   \n",
       "3       more_1_liter                    2.0         decreased  distend_small   \n",
       "4       less_1_liter                    7.0            normal         normal   \n",
       "\n",
       "   packed_cell_volume  total_protein abdomo_appearance  abdomo_protein  \\\n",
       "0                57.0            8.5     serosanguious             3.4   \n",
       "1                33.0           64.0     serosanguious             2.0   \n",
       "2                37.0            6.4     serosanguious             3.4   \n",
       "3                53.0            7.0            cloudy             3.9   \n",
       "4                47.0            7.3            cloudy             2.6   \n",
       "\n",
       "  surgical_lesion  lesion_1  lesion_2  lesion_3 cp_data     outcome  \n",
       "0             yes      2209         0         0      no        died  \n",
       "1             yes      2208         0         0      no  euthanized  \n",
       "2             yes      5124         0         0      no       lived  \n",
       "3             yes      2208         0         0     yes       lived  \n",
       "4              no         0         0         0     yes       lived  "
      ]
     },
     "execution_count": 2,
     "metadata": {},
     "output_type": "execute_result"
    }
   ],
   "source": [
    "df = pd.read_csv('train.csv')\n",
    "df.head(5)"
   ]
  },
  {
   "cell_type": "markdown",
   "metadata": {},
   "source": [
    "# Exploratory Data Analysis"
   ]
  },
  {
   "cell_type": "code",
   "execution_count": 3,
   "metadata": {},
   "outputs": [
    {
     "data": {
      "text/plain": [
       "<Figure size 720x432 with 0 Axes>"
      ]
     },
     "execution_count": 3,
     "metadata": {},
     "output_type": "execute_result"
    },
    {
     "data": {
      "text/plain": [
       "<AxesSubplot: xlabel='outcome', ylabel='count'>"
      ]
     },
     "execution_count": 3,
     "metadata": {},
     "output_type": "execute_result"
    },
    {
     "data": {
      "text/plain": [
       "Text(0.5, 1.0, 'Distribuição da Coluna Alvo (Outcome)')"
      ]
     },
     "execution_count": 3,
     "metadata": {},
     "output_type": "execute_result"
    },
    {
     "data": {
      "text/plain": [
       "Text(0.5, 0, 'Outcome')"
      ]
     },
     "execution_count": 3,
     "metadata": {},
     "output_type": "execute_result"
    },
    {
     "data": {
      "text/plain": [
       "Text(0, 0.5, 'Contagem')"
      ]
     },
     "execution_count": 3,
     "metadata": {},
     "output_type": "execute_result"
    },
    {
     "data": {
      "image/png": "[encoded data removed]",
      "text/plain": [
       "<Figure size 720x432 with 1 Axes>"
      ]
     },
     "metadata": {
      "needs_background": "light"
     },
     "output_type": "display_data"
    }
   ],
   "source": [
    "sns.set(style=\"whitegrid\")\n",
    "\n",
    "# Distribution of 'outcome'\n",
    "plt.figure(figsize=(10, 6))\n",
    "sns.countplot(data=df, x='outcome', order = df['outcome'].value_counts().index)\n",
    "plt.title('Distribuição da Coluna Alvo (Outcome)')\n",
    "plt.xlabel('Outcome')\n",
    "plt.ylabel('Contagem')\n",
    "plt.show()"
   ]
  },
  {
   "cell_type": "markdown",
   "metadata": {},
   "source": [
    "The target column (outcome) has three categories: 'lived', 'died' and 'euthanized'. Most records belong to the 'lived' category, followed by 'died' and 'euthanized'."
   ]
  },
  {
   "cell_type": "code",
   "execution_count": 4,
   "metadata": {},
   "outputs": [
    {
     "data": {
      "text/plain": [
       "<AxesSubplot: xlabel='rectal_temp', ylabel='Count'>"
      ]
     },
     "execution_count": 4,
     "metadata": {},
     "output_type": "execute_result"
    },
    {
     "data": {
      "text/plain": [
       "Text(0.5, 1.0, 'Distribuição de rectal_temp')"
      ]
     },
     "execution_count": 4,
     "metadata": {},
     "output_type": "execute_result"
    },
    {
     "data": {
      "text/plain": [
       "Text(0.5, 0, 'rectal_temp')"
      ]
     },
     "execution_count": 4,
     "metadata": {},
     "output_type": "execute_result"
    },
    {
     "data": {
      "text/plain": [
       "Text(0, 0.5, 'Frequência')"
      ]
     },
     "execution_count": 4,
     "metadata": {},
     "output_type": "execute_result"
    },
    {
     "data": {
      "text/plain": [
       "<AxesSubplot: xlabel='pulse', ylabel='Count'>"
      ]
     },
     "execution_count": 4,
     "metadata": {},
     "output_type": "execute_result"
    },
    {
     "data": {
      "text/plain": [
       "Text(0.5, 1.0, 'Distribuição de pulse')"
      ]
     },
     "execution_count": 4,
     "metadata": {},
     "output_type": "execute_result"
    },
    {
     "data": {
      "text/plain": [
       "Text(0.5, 0, 'pulse')"
      ]
     },
     "execution_count": 4,
     "metadata": {},
     "output_type": "execute_result"
    },
    {
     "data": {
      "text/plain": [
       "Text(0, 0.5, 'Frequência')"
      ]
     },
     "execution_count": 4,
     "metadata": {},
     "output_type": "execute_result"
    },
    {
     "data": {
      "text/plain": [
       "<AxesSubplot: xlabel='respiratory_rate', ylabel='Count'>"
      ]
     },
     "execution_count": 4,
     "metadata": {},
     "output_type": "execute_result"
    },
    {
     "data": {
      "text/plain": [
       "Text(0.5, 1.0, 'Distribuição de respiratory_rate')"
      ]
     },
     "execution_count": 4,
     "metadata": {},
     "output_type": "execute_result"
    },
    {
     "data": {
      "text/plain": [
       "Text(0.5, 0, 'respiratory_rate')"
      ]
     },
     "execution_count": 4,
     "metadata": {},
     "output_type": "execute_result"
    },
    {
     "data": {
      "text/plain": [
       "Text(0, 0.5, 'Frequência')"
      ]
     },
     "execution_count": 4,
     "metadata": {},
     "output_type": "execute_result"
    },
    {
     "data": {
      "text/plain": [
       "<AxesSubplot: xlabel='packed_cell_volume', ylabel='Count'>"
      ]
     },
     "execution_count": 4,
     "metadata": {},
     "output_type": "execute_result"
    },
    {
     "data": {
      "text/plain": [
       "Text(0.5, 1.0, 'Distribuição de packed_cell_volume')"
      ]
     },
     "execution_count": 4,
     "metadata": {},
     "output_type": "execute_result"
    },
    {
     "data": {
      "text/plain": [
       "Text(0.5, 0, 'packed_cell_volume')"
      ]
     },
     "execution_count": 4,
     "metadata": {},
     "output_type": "execute_result"
    },
    {
     "data": {
      "text/plain": [
       "Text(0, 0.5, 'Frequência')"
      ]
     },
     "execution_count": 4,
     "metadata": {},
     "output_type": "execute_result"
    },
    {
     "data": {
      "text/plain": [
       "<AxesSubplot: xlabel='total_protein', ylabel='Count'>"
      ]
     },
     "execution_count": 4,
     "metadata": {},
     "output_type": "execute_result"
    },
    {
     "data": {
      "text/plain": [
       "Text(0.5, 1.0, 'Distribuição de total_protein')"
      ]
     },
     "execution_count": 4,
     "metadata": {},
     "output_type": "execute_result"
    },
    {
     "data": {
      "text/plain": [
       "Text(0.5, 0, 'total_protein')"
      ]
     },
     "execution_count": 4,
     "metadata": {},
     "output_type": "execute_result"
    },
    {
     "data": {
      "text/plain": [
       "Text(0, 0.5, 'Frequência')"
      ]
     },
     "execution_count": 4,
     "metadata": {},
     "output_type": "execute_result"
    },
    {
     "data": {
      "text/plain": [
       "<AxesSubplot: xlabel='abdomo_protein', ylabel='Count'>"
      ]
     },
     "execution_count": 4,
     "metadata": {},
     "output_type": "execute_result"
    },
    {
     "data": {
      "text/plain": [
       "Text(0.5, 1.0, 'Distribuição de abdomo_protein')"
      ]
     },
     "execution_count": 4,
     "metadata": {},
     "output_type": "execute_result"
    },
    {
     "data": {
      "text/plain": [
       "Text(0.5, 0, 'abdomo_protein')"
      ]
     },
     "execution_count": 4,
     "metadata": {},
     "output_type": "execute_result"
    },
    {
     "data": {
      "text/plain": [
       "Text(0, 0.5, 'Frequência')"
      ]
     },
     "execution_count": 4,
     "metadata": {},
     "output_type": "execute_result"
    },
    {
     "data": {
      "image/png": "[encoded data removed]",
      "text/plain": [
       "<Figure size 1296x864 with 6 Axes>"
      ]
     },
     "metadata": {
      "needs_background": "light"
     },
     "output_type": "display_data"
    }
   ],
   "source": [
    "# Selects numerical variables and plots their distributions\n",
    "numeric_vars = ['rectal_temp', 'pulse', 'respiratory_rate', 'packed_cell_volume', 'total_protein', 'abdomo_protein']\n",
    "\n",
    "fig, axes = plt.subplots(2, 3, figsize=(18, 12))\n",
    "\n",
    "for i, var in enumerate(numeric_vars):\n",
    "    row = i // 3\n",
    "    col = i % 3\n",
    "    sns.histplot(df[var], bins=30, ax=axes[row, col], kde=True)\n",
    "    axes[row, col].set_title(f'Distribuição de {var}')\n",
    "    axes[row, col].set_xlabel(var)\n",
    "    axes[row, col].set_ylabel('Frequência')\n",
    "\n",
    "plt.tight_layout()\n",
    "plt.show()"
   ]
  },
  {
   "cell_type": "markdown",
   "metadata": {},
   "source": [
    "+ Rectal Temp: Most values are concentrated around 38 degrees Celsius.\n",
    "+ Pulse: The distribution is somewhat skewed to the right, with most values between 40 and 100.\n",
    "+ Respiratory Rate: The distribution is quite skewed to the right, with most values below 40.\n",
    "+ Packed Cell Volume: Most values are between 35 and 55.\n",
    "+ Total Protein: There are two peaks in the distribution, one around 7 and the other around 60-70.\n",
    "+ Abdomen Protein: The distribution is skewed to the right, with most values below 5."
   ]
  },
  {
   "cell_type": "code",
   "execution_count": 5,
   "metadata": {},
   "outputs": [
    {
     "data": {
      "text/plain": [
       "<AxesSubplot: xlabel='surgery', ylabel='count'>"
      ]
     },
     "execution_count": 5,
     "metadata": {},
     "output_type": "execute_result"
    },
    {
     "data": {
      "text/plain": [
       "Text(0.5, 1.0, 'Distribuição de surgery')"
      ]
     },
     "execution_count": 5,
     "metadata": {},
     "output_type": "execute_result"
    },
    {
     "data": {
      "text/plain": [
       "Text(0.5, 0, 'surgery')"
      ]
     },
     "execution_count": 5,
     "metadata": {},
     "output_type": "execute_result"
    },
    {
     "data": {
      "text/plain": [
       "Text(0, 0.5, 'Contagem')"
      ]
     },
     "execution_count": 5,
     "metadata": {},
     "output_type": "execute_result"
    },
    {
     "data": {
      "text/plain": [
       "<AxesSubplot: xlabel='age', ylabel='count'>"
      ]
     },
     "execution_count": 5,
     "metadata": {},
     "output_type": "execute_result"
    },
    {
     "data": {
      "text/plain": [
       "Text(0.5, 1.0, 'Distribuição de age')"
      ]
     },
     "execution_count": 5,
     "metadata": {},
     "output_type": "execute_result"
    },
    {
     "data": {
      "text/plain": [
       "Text(0.5, 0, 'age')"
      ]
     },
     "execution_count": 5,
     "metadata": {},
     "output_type": "execute_result"
    },
    {
     "data": {
      "text/plain": [
       "Text(0, 0.5, 'Contagem')"
      ]
     },
     "execution_count": 5,
     "metadata": {},
     "output_type": "execute_result"
    },
    {
     "data": {
      "text/plain": [
       "<AxesSubplot: xlabel='temp_of_extremities', ylabel='count'>"
      ]
     },
     "execution_count": 5,
     "metadata": {},
     "output_type": "execute_result"
    },
    {
     "data": {
      "text/plain": [
       "Text(0.5, 1.0, 'Distribuição de temp_of_extremities')"
      ]
     },
     "execution_count": 5,
     "metadata": {},
     "output_type": "execute_result"
    },
    {
     "data": {
      "text/plain": [
       "Text(0.5, 0, 'temp_of_extremities')"
      ]
     },
     "execution_count": 5,
     "metadata": {},
     "output_type": "execute_result"
    },
    {
     "data": {
      "text/plain": [
       "Text(0, 0.5, 'Contagem')"
      ]
     },
     "execution_count": 5,
     "metadata": {},
     "output_type": "execute_result"
    },
    {
     "data": {
      "text/plain": [
       "<AxesSubplot: xlabel='peripheral_pulse', ylabel='count'>"
      ]
     },
     "execution_count": 5,
     "metadata": {},
     "output_type": "execute_result"
    },
    {
     "data": {
      "text/plain": [
       "Text(0.5, 1.0, 'Distribuição de peripheral_pulse')"
      ]
     },
     "execution_count": 5,
     "metadata": {},
     "output_type": "execute_result"
    },
    {
     "data": {
      "text/plain": [
       "Text(0.5, 0, 'peripheral_pulse')"
      ]
     },
     "execution_count": 5,
     "metadata": {},
     "output_type": "execute_result"
    },
    {
     "data": {
      "text/plain": [
       "Text(0, 0.5, 'Contagem')"
      ]
     },
     "execution_count": 5,
     "metadata": {},
     "output_type": "execute_result"
    },
    {
     "data": {
      "text/plain": [
       "<AxesSubplot: xlabel='mucous_membrane', ylabel='count'>"
      ]
     },
     "execution_count": 5,
     "metadata": {},
     "output_type": "execute_result"
    },
    {
     "data": {
      "text/plain": [
       "Text(0.5, 1.0, 'Distribuição de mucous_membrane')"
      ]
     },
     "execution_count": 5,
     "metadata": {},
     "output_type": "execute_result"
    },
    {
     "data": {
      "text/plain": [
       "Text(0.5, 0, 'mucous_membrane')"
      ]
     },
     "execution_count": 5,
     "metadata": {},
     "output_type": "execute_result"
    },
    {
     "data": {
      "text/plain": [
       "Text(0, 0.5, 'Contagem')"
      ]
     },
     "execution_count": 5,
     "metadata": {},
     "output_type": "execute_result"
    },
    {
     "data": {
      "text/plain": [
       "<AxesSubplot: xlabel='pain', ylabel='count'>"
      ]
     },
     "execution_count": 5,
     "metadata": {},
     "output_type": "execute_result"
    },
    {
     "data": {
      "text/plain": [
       "Text(0.5, 1.0, 'Distribuição de pain')"
      ]
     },
     "execution_count": 5,
     "metadata": {},
     "output_type": "execute_result"
    },
    {
     "data": {
      "text/plain": [
       "Text(0.5, 0, 'pain')"
      ]
     },
     "execution_count": 5,
     "metadata": {},
     "output_type": "execute_result"
    },
    {
     "data": {
      "text/plain": [
       "Text(0, 0.5, 'Contagem')"
      ]
     },
     "execution_count": 5,
     "metadata": {},
     "output_type": "execute_result"
    },
    {
     "data": {
      "image/png": "[encoded data removed]",
      "text/plain": [
       "<Figure size 1296x864 with 6 Axes>"
      ]
     },
     "metadata": {
      "needs_background": "light"
     },
     "output_type": "display_data"
    }
   ],
   "source": [
    "# Selects non-numerical variables and plots their distributions\n",
    "categorical_vars = ['surgery', 'age', 'temp_of_extremities', 'peripheral_pulse', 'mucous_membrane', 'pain']\n",
    "\n",
    "fig, axes = plt.subplots(2, 3, figsize=(18, 12))\n",
    "\n",
    "for i, var in enumerate(categorical_vars):\n",
    "    row = i // 3\n",
    "    col = i % 3\n",
    "    sns.countplot(data=df, x=var, ax=axes[row, col], order=df[var].value_counts().index)\n",
    "    axes[row, col].set_title(f'Distribuição de {var}')\n",
    "    axes[row, col].set_xlabel(var)\n",
    "    axes[row, col].set_ylabel('Contagem')\n",
    "    axes[row, col].tick_params(axis='x', rotation=30)\n",
    "\n",
    "plt.tight_layout()\n",
    "plt.show()"
   ]
  },
  {
   "cell_type": "markdown",
   "metadata": {},
   "source": [
    "+ Surgery: Most cases involved surgery ('yes').\n",
    "+ Age: The vast majority of registrations are from adults.\n",
    "+ Temp of Extremities: The 'cool' category is the most common, followed by 'normal'.\n",
    "+ Peripheral Pulse: Most records have a 'normal' peripheral pulse, followed by a 'reduced' one.\n",
    "+ Mucous Membrane: 'Pale pink' and 'normal pink' are the most frequent categories.\n",
    "+ Pain: The 'mild pain' category is the most common, followed by 'depressed'."
   ]
  },
  {
   "cell_type": "code",
   "execution_count": 6,
   "metadata": {},
   "outputs": [
    {
     "data": {
      "text/plain": [
       "<AxesSubplot: xlabel='outcome', ylabel='rectal_temp'>"
      ]
     },
     "execution_count": 6,
     "metadata": {},
     "output_type": "execute_result"
    },
    {
     "data": {
      "text/plain": [
       "Text(0.5, 1.0, 'rectal_temp por Outcome')"
      ]
     },
     "execution_count": 6,
     "metadata": {},
     "output_type": "execute_result"
    },
    {
     "data": {
      "text/plain": [
       "Text(0.5, 0, 'Outcome')"
      ]
     },
     "execution_count": 6,
     "metadata": {},
     "output_type": "execute_result"
    },
    {
     "data": {
      "text/plain": [
       "Text(0, 0.5, 'rectal_temp')"
      ]
     },
     "execution_count": 6,
     "metadata": {},
     "output_type": "execute_result"
    },
    {
     "data": {
      "text/plain": [
       "<AxesSubplot: xlabel='outcome', ylabel='pulse'>"
      ]
     },
     "execution_count": 6,
     "metadata": {},
     "output_type": "execute_result"
    },
    {
     "data": {
      "text/plain": [
       "Text(0.5, 1.0, 'pulse por Outcome')"
      ]
     },
     "execution_count": 6,
     "metadata": {},
     "output_type": "execute_result"
    },
    {
     "data": {
      "text/plain": [
       "Text(0.5, 0, 'Outcome')"
      ]
     },
     "execution_count": 6,
     "metadata": {},
     "output_type": "execute_result"
    },
    {
     "data": {
      "text/plain": [
       "Text(0, 0.5, 'pulse')"
      ]
     },
     "execution_count": 6,
     "metadata": {},
     "output_type": "execute_result"
    },
    {
     "data": {
      "text/plain": [
       "<AxesSubplot: xlabel='outcome', ylabel='respiratory_rate'>"
      ]
     },
     "execution_count": 6,
     "metadata": {},
     "output_type": "execute_result"
    },
    {
     "data": {
      "text/plain": [
       "Text(0.5, 1.0, 'respiratory_rate por Outcome')"
      ]
     },
     "execution_count": 6,
     "metadata": {},
     "output_type": "execute_result"
    },
    {
     "data": {
      "text/plain": [
       "Text(0.5, 0, 'Outcome')"
      ]
     },
     "execution_count": 6,
     "metadata": {},
     "output_type": "execute_result"
    },
    {
     "data": {
      "text/plain": [
       "Text(0, 0.5, 'respiratory_rate')"
      ]
     },
     "execution_count": 6,
     "metadata": {},
     "output_type": "execute_result"
    },
    {
     "data": {
      "text/plain": [
       "<AxesSubplot: xlabel='outcome', ylabel='packed_cell_volume'>"
      ]
     },
     "execution_count": 6,
     "metadata": {},
     "output_type": "execute_result"
    },
    {
     "data": {
      "text/plain": [
       "Text(0.5, 1.0, 'packed_cell_volume por Outcome')"
      ]
     },
     "execution_count": 6,
     "metadata": {},
     "output_type": "execute_result"
    },
    {
     "data": {
      "text/plain": [
       "Text(0.5, 0, 'Outcome')"
      ]
     },
     "execution_count": 6,
     "metadata": {},
     "output_type": "execute_result"
    },
    {
     "data": {
      "text/plain": [
       "Text(0, 0.5, 'packed_cell_volume')"
      ]
     },
     "execution_count": 6,
     "metadata": {},
     "output_type": "execute_result"
    },
    {
     "data": {
      "text/plain": [
       "<AxesSubplot: xlabel='outcome', ylabel='total_protein'>"
      ]
     },
     "execution_count": 6,
     "metadata": {},
     "output_type": "execute_result"
    },
    {
     "data": {
      "text/plain": [
       "Text(0.5, 1.0, 'total_protein por Outcome')"
      ]
     },
     "execution_count": 6,
     "metadata": {},
     "output_type": "execute_result"
    },
    {
     "data": {
      "text/plain": [
       "Text(0.5, 0, 'Outcome')"
      ]
     },
     "execution_count": 6,
     "metadata": {},
     "output_type": "execute_result"
    },
    {
     "data": {
      "text/plain": [
       "Text(0, 0.5, 'total_protein')"
      ]
     },
     "execution_count": 6,
     "metadata": {},
     "output_type": "execute_result"
    },
    {
     "data": {
      "text/plain": [
       "<AxesSubplot: xlabel='outcome', ylabel='abdomo_protein'>"
      ]
     },
     "execution_count": 6,
     "metadata": {},
     "output_type": "execute_result"
    },
    {
     "data": {
      "text/plain": [
       "Text(0.5, 1.0, 'abdomo_protein por Outcome')"
      ]
     },
     "execution_count": 6,
     "metadata": {},
     "output_type": "execute_result"
    },
    {
     "data": {
      "text/plain": [
       "Text(0.5, 0, 'Outcome')"
      ]
     },
     "execution_count": 6,
     "metadata": {},
     "output_type": "execute_result"
    },
    {
     "data": {
      "text/plain": [
       "Text(0, 0.5, 'abdomo_protein')"
      ]
     },
     "execution_count": 6,
     "metadata": {},
     "output_type": "execute_result"
    },
    {
     "data": {
      "image/png": "[encoded data removed]",
      "text/plain": [
       "<Figure size 1296x864 with 6 Axes>"
      ]
     },
     "metadata": {
      "needs_background": "light"
     },
     "output_type": "display_data"
    }
   ],
   "source": [
    "# Plots the relationships between some variables and the target variable\n",
    "fig, axes = plt.subplots(2, 3, figsize=(18, 12))\n",
    "\n",
    "for i, var in enumerate(numeric_vars):\n",
    "    row = i // 3\n",
    "    col = i % 3\n",
    "    sns.boxplot(data=df, x='outcome', y=var, ax=axes[row, col])\n",
    "    axes[row, col].set_title(f'{var} por Outcome')\n",
    "    axes[row, col].set_xlabel('Outcome')\n",
    "    axes[row, col].set_ylabel(var)\n",
    "\n",
    "plt.tight_layout()\n",
    "plt.show()"
   ]
  },
  {
   "cell_type": "markdown",
   "metadata": {},
   "source": [
    "+ Rectal Temp: Cases where the result was 'died' tend to have lower rectal temperatures.\n",
    "+ Pulse: Cases that resulted in 'died' or 'euthanized' tend to have a higher pulse.\n",
    "+ Respiratory Rate: There is no clear distinction between outcome categories, although 'died' cases appear to have a slightly higher respiratory rate.\n",
    "+ Packed Cell Volume: The 'died' and 'euthanized' cases appear to have a higher packed cell volume.\n",
    "+ Total Protein: 'Lived' cases have a tendency towards lower total protein values.\n",
    "+ Abdominal Protein: Cases that result in 'died' or 'euthanized' tend to have higher levels of abdominal protein."
   ]
  },
  {
   "cell_type": "code",
   "execution_count": 7,
   "metadata": {},
   "outputs": [
    {
     "data": {
      "text/plain": [
       "outcome                  1.000000\n",
       "temp_of_extremities      0.214535\n",
       "peristalsis              0.169014\n",
       "total_protein            0.155941\n",
       "abdomen                  0.151461\n",
       "abdominal_distention     0.141344\n",
       "rectal_exam_feces        0.128992\n",
       "nasogastric_tube         0.088801\n",
       "id                       0.046187\n",
       "cp_data                  0.041040\n",
       "mucous_membrane          0.033740\n",
       "lesion_2                 0.032873\n",
       "lesion_3                 0.016755\n",
       "rectal_temp              0.005517\n",
       "lesion_1                 0.002687\n",
       "nasogastric_reflux      -0.020426\n",
       "pain                    -0.041320\n",
       "nasogastric_reflux_ph   -0.084575\n",
       "abdomo_protein          -0.087725\n",
       "hospital_number         -0.104766\n",
       "surgery                 -0.152502\n",
       "peripheral_pulse        -0.169352\n",
       "age                     -0.176527\n",
       "respiratory_rate        -0.185242\n",
       "packed_cell_volume      -0.235642\n",
       "surgical_lesion         -0.262132\n",
       "capillary_refill_time   -0.271274\n",
       "abdomo_appearance       -0.301062\n",
       "pulse                   -0.330282\n",
       "Name: outcome, dtype: float64"
      ]
     },
     "execution_count": 7,
     "metadata": {},
     "output_type": "execute_result"
    }
   ],
   "source": [
    "# Encodes the categorical variables\n",
    "df_encoded = df.copy()\n",
    "label_encoder = LabelEncoder()\n",
    "for col in df.select_dtypes(include=['object']).columns:\n",
    "    df_encoded[col] = label_encoder.fit_transform(df[col])\n",
    "\n",
    "# Plots the correlation of each variable with the target\n",
    "correlation_matrix = df_encoded.corr()\n",
    "correlation_with_outcome = correlation_matrix['outcome'].sort_values(ascending=False)\n",
    "correlation_with_outcome"
   ]
  },
  {
   "cell_type": "markdown",
   "metadata": {},
   "source": [
    "Temp of Extremities, Peristalsis, and Total Protein have moderate positive correlations with outcome. This suggests that an increase in these values may be associated with a specific outcome.\n",
    "\n",
    "Pulse, Abdominal Appearance, and Capillary Refill Time have moderate negative correlations with outcome. This indicates that an increase in these values may be associated with a different outcome.\n",
    "\n",
    "**It is important to note that correlation does not imply causality.** Furthermore, the correlation coefficients are moderate at best, meaning that other variables and interactions between them can also play a significant role."
   ]
  },
  {
   "cell_type": "markdown",
   "metadata": {},
   "source": [
    "To quantify the relationship between a variable and outcome, one can consider the following statistical tests:\n",
    "\n",
    "+ Student's t-test for independent samples: This test can be used if you want to compare the average of the variable between two outcome categories. However, this test assumes that the data is normally distributed and has equal variances.\n",
    "\n",
    "+ ANOVA (Analysis of Variance): If you want to compare the average of the variable between all three outcome categories, you can use the ANOVA test.\n",
    "\n",
    "+ Kruskal-Wallis Test: This is a non-parametric test that you can use as an alternative to the ANOVA test when the data is not normally distributed or has different variances.\n",
    "\n",
    "+ Spearman Correlation Test: This is a non-parametric test that measures the strength and direction of association between two classified variables.\n",
    "\n",
    "+ Chi-Square Test for Independence: This test is useful if you categorize respiratory rate and want to see if there is a relationship between this categorical variable and the outcome."
   ]
  },
  {
   "cell_type": "code",
   "execution_count": 8,
   "metadata": {},
   "outputs": [
    {
     "data": {
      "text/plain": [
       "{'pulse': {'t_p_value': 8.794213366004748e-31,\n",
       "  'f_p_value': 1.8930474745981826e-34,\n",
       "  'kruskal_p_value': 1.9972930410798892e-36,\n",
       "  'spearman_p_value': 6.2987136398432715e-37,\n",
       "  'chi2_p_value': 7.881169366017953e-39},\n",
       " 'packed_cell_volume': {'t_p_value': 2.8936862390879904e-16,\n",
       "  'f_p_value': 3.916005493599044e-28,\n",
       "  'kruskal_p_value': 8.211308965416434e-30,\n",
       "  'spearman_p_value': 5.059358914895837e-21,\n",
       "  'chi2_p_value': 5.6206556592704805e-15},\n",
       " 'total_protein': {'t_p_value': 4.417401335216787e-17,\n",
       "  'f_p_value': 4.233814724052482e-68,\n",
       "  'kruskal_p_value': 1.6544446895962158e-41,\n",
       "  'spearman_p_value': 0.0106251127848629,\n",
       "  'chi2_p_value': 4.643162176071643e-56}}"
      ]
     },
     "execution_count": 8,
     "metadata": {},
     "output_type": "execute_result"
    }
   ],
   "source": [
    "# Encodes 'outcome' to numerical\n",
    "df['outcome_encoded'] = LabelEncoder().fit_transform(df['outcome'])\n",
    "\n",
    "# Function to apply various statistical tests and return the results\n",
    "def apply_statistical_tests(df, numeric_var, target_var):\n",
    "    \n",
    "    grouped_data = [df[numeric_var][df[target_var] == outcome] for outcome in df[target_var].unique()]\n",
    "    \n",
    "    # T-student\n",
    "    t_stat, t_p_value = ttest_ind(grouped_data[0], grouped_data[2])\n",
    "    \n",
    "    # ANOVA\n",
    "    f_stat, f_p_value = f_oneway(*grouped_data)\n",
    "    \n",
    "    # Kruskal-Wallis\n",
    "    kruskal_stat, kruskal_p_value = kruskal(*grouped_data)\n",
    "    \n",
    "    # Spearman correlation\n",
    "    spearman_corr, spearman_p_value = spearmanr(df[numeric_var], df['outcome_encoded'])\n",
    "    \n",
    "    # Chi-squared\n",
    "    df[f'{numeric_var}_cat'] = pd.cut(df[numeric_var], bins=3, labels=['Baixo', 'Médio', 'Alto'])\n",
    "    contingency_table = pd.crosstab(df[f'{numeric_var}_cat'], df[target_var])\n",
    "    chi2_stat, chi2_p_value, _, _ = chi2_contingency(contingency_table)\n",
    "    \n",
    "    return {\n",
    "            # 't_stat': t_stat,\n",
    "            't_p_value': t_p_value,\n",
    "            # 'f_stat': f_stat,\n",
    "            'f_p_value': f_p_value,\n",
    "            # 'kruskal_stat': kruskal_stat,\n",
    "            'kruskal_p_value': kruskal_p_value,\n",
    "            # 'spearman_corr': spearman_corr,\n",
    "            'spearman_p_value': spearman_p_value,\n",
    "            # 'chi2_stat': chi2_stat,\n",
    "            'chi2_p_value': chi2_p_value\n",
    "            }\n",
    "\n",
    "# Selecting some of the most relevant numerical variables\n",
    "relevant_numeric_vars = ['pulse', 'packed_cell_volume', 'total_protein']\n",
    "stat_results = {var: apply_statistical_tests(df, var, 'outcome') for var in relevant_numeric_vars}\n",
    "stat_results"
   ]
  },
  {
   "cell_type": "markdown",
   "metadata": {},
   "source": [
    "All tests showed very low p-values for \"Pulse\" and \"Packed Cell Volume\", indicating that these variables have a statistically significant relationship with the outcome.\n",
    "\n",
    "For \"Total Protein\", all tests except Spearman's correlation showed very low p-values. The Spearman correlation had a p-value of 0.0106, still significant but less robust compared to the other tests.\n",
    "\n",
    "The interpretation of statistics (t, F, Kruskal-Wallis, etc.) is similar to the previous one, with notable differences between the outcome categories for each variable tested.\n",
    "\n",
    "These results reinforce the relevance of these variables for modeling."
   ]
  },
  {
   "cell_type": "code",
   "execution_count": 9,
   "metadata": {},
   "outputs": [
    {
     "data": {
      "text/html": [
       "<div>\n",
       "<style scoped>\n",
       "    .dataframe tbody tr th:only-of-type {\n",
       "        vertical-align: middle;\n",
       "    }\n",
       "\n",
       "    .dataframe tbody tr th {\n",
       "        vertical-align: top;\n",
       "    }\n",
       "\n",
       "    .dataframe thead th {\n",
       "        text-align: right;\n",
       "    }\n",
       "</style>\n",
       "<table border=\"1\" class=\"dataframe\">\n",
       "  <thead>\n",
       "    <tr style=\"text-align: right;\">\n",
       "      <th></th>\n",
       "      <th>surgery</th>\n",
       "      <th>age</th>\n",
       "      <th>temp_of_extremities</th>\n",
       "    </tr>\n",
       "  </thead>\n",
       "  <tbody>\n",
       "    <tr>\n",
       "      <th>0</th>\n",
       "      <td>1</td>\n",
       "      <td>0</td>\n",
       "      <td>2</td>\n",
       "    </tr>\n",
       "    <tr>\n",
       "      <th>1</th>\n",
       "      <td>1</td>\n",
       "      <td>0</td>\n",
       "      <td>2</td>\n",
       "    </tr>\n",
       "    <tr>\n",
       "      <th>2</th>\n",
       "      <td>1</td>\n",
       "      <td>0</td>\n",
       "      <td>2</td>\n",
       "    </tr>\n",
       "    <tr>\n",
       "      <th>3</th>\n",
       "      <td>1</td>\n",
       "      <td>0</td>\n",
       "      <td>1</td>\n",
       "    </tr>\n",
       "    <tr>\n",
       "      <th>4</th>\n",
       "      <td>0</td>\n",
       "      <td>0</td>\n",
       "      <td>3</td>\n",
       "    </tr>\n",
       "  </tbody>\n",
       "</table>\n",
       "</div>"
      ],
      "text/plain": [
       "   surgery  age  temp_of_extremities\n",
       "0        1    0                    2\n",
       "1        1    0                    2\n",
       "2        1    0                    2\n",
       "3        1    0                    1\n",
       "4        0    0                    3"
      ]
     },
     "execution_count": 9,
     "metadata": {},
     "output_type": "execute_result"
    },
    {
     "data": {
      "text/html": [
       "<div>\n",
       "<style scoped>\n",
       "    .dataframe tbody tr th:only-of-type {\n",
       "        vertical-align: middle;\n",
       "    }\n",
       "\n",
       "    .dataframe tbody tr th {\n",
       "        vertical-align: top;\n",
       "    }\n",
       "\n",
       "    .dataframe thead th {\n",
       "        text-align: right;\n",
       "    }\n",
       "</style>\n",
       "<table border=\"1\" class=\"dataframe\">\n",
       "  <thead>\n",
       "    <tr style=\"text-align: right;\">\n",
       "      <th></th>\n",
       "      <th>surgery_yes</th>\n",
       "      <th>age_young</th>\n",
       "      <th>temp_of_extremities_cold</th>\n",
       "      <th>temp_of_extremities_cool</th>\n",
       "      <th>temp_of_extremities_normal</th>\n",
       "      <th>temp_of_extremities_warm</th>\n",
       "    </tr>\n",
       "  </thead>\n",
       "  <tbody>\n",
       "    <tr>\n",
       "      <th>0</th>\n",
       "      <td>1.0</td>\n",
       "      <td>0.0</td>\n",
       "      <td>0.0</td>\n",
       "      <td>1.0</td>\n",
       "      <td>0.0</td>\n",
       "      <td>0.0</td>\n",
       "    </tr>\n",
       "    <tr>\n",
       "      <th>1</th>\n",
       "      <td>1.0</td>\n",
       "      <td>0.0</td>\n",
       "      <td>0.0</td>\n",
       "      <td>1.0</td>\n",
       "      <td>0.0</td>\n",
       "      <td>0.0</td>\n",
       "    </tr>\n",
       "    <tr>\n",
       "      <th>2</th>\n",
       "      <td>1.0</td>\n",
       "      <td>0.0</td>\n",
       "      <td>0.0</td>\n",
       "      <td>1.0</td>\n",
       "      <td>0.0</td>\n",
       "      <td>0.0</td>\n",
       "    </tr>\n",
       "    <tr>\n",
       "      <th>3</th>\n",
       "      <td>1.0</td>\n",
       "      <td>0.0</td>\n",
       "      <td>1.0</td>\n",
       "      <td>0.0</td>\n",
       "      <td>0.0</td>\n",
       "      <td>0.0</td>\n",
       "    </tr>\n",
       "    <tr>\n",
       "      <th>4</th>\n",
       "      <td>0.0</td>\n",
       "      <td>0.0</td>\n",
       "      <td>0.0</td>\n",
       "      <td>0.0</td>\n",
       "      <td>1.0</td>\n",
       "      <td>0.0</td>\n",
       "    </tr>\n",
       "  </tbody>\n",
       "</table>\n",
       "</div>"
      ],
      "text/plain": [
       "   surgery_yes  age_young  temp_of_extremities_cold  temp_of_extremities_cool  \\\n",
       "0          1.0        0.0                       0.0                       1.0   \n",
       "1          1.0        0.0                       0.0                       1.0   \n",
       "2          1.0        0.0                       0.0                       1.0   \n",
       "3          1.0        0.0                       1.0                       0.0   \n",
       "4          0.0        0.0                       0.0                       0.0   \n",
       "\n",
       "   temp_of_extremities_normal  temp_of_extremities_warm  \n",
       "0                         0.0                       0.0  \n",
       "1                         0.0                       0.0  \n",
       "2                         0.0                       0.0  \n",
       "3                         0.0                       0.0  \n",
       "4                         1.0                       0.0  "
      ]
     },
     "execution_count": 9,
     "metadata": {},
     "output_type": "execute_result"
    }
   ],
   "source": [
    "# Applies label encoding and one-hot hncoding in some of the categorical variables\n",
    "selected_categorical_vars = ['surgery', 'age', 'temp_of_extremities']\n",
    "\n",
    "label_encoder = LabelEncoder()\n",
    "onehot_encoder = OneHotEncoder(sparse=False, drop='first')\n",
    "\n",
    "df_label_encoded = df[selected_categorical_vars].apply(label_encoder.fit_transform)\n",
    "df_onehot_encoded = pd.DataFrame(onehot_encoder.fit_transform(df[selected_categorical_vars]), columns=onehot_encoder.get_feature_names_out(selected_categorical_vars))\n",
    "\n",
    "df_label_encoded.head()\n",
    "df_onehot_encoded.head()"
   ]
  },
  {
   "cell_type": "code",
   "execution_count": 10,
   "metadata": {},
   "outputs": [
    {
     "data": {
      "text/plain": [
       "{'surgery': {'t_p_value': 2.6708569391664884e-08,\n",
       "  'f_p_value': 1.1310574608146981e-07,\n",
       "  'kruskal_p_value': 1.3544514151456072e-07,\n",
       "  'spearman_p_value': 1.2116301406114933e-07,\n",
       "  'chi2_p_value': 1.3372037916999573e-07},\n",
       " 'age': {'t_p_value': 1.8961114266823646e-09,\n",
       "  'f_p_value': 5.376826490975489e-13,\n",
       "  'kruskal_p_value': 9.731099974497425e-13,\n",
       "  'spearman_p_value': 1.6503323710570138e-09,\n",
       "  'chi2_p_value': 9.515417931070396e-13},\n",
       " 'temp_of_extremities': {'t_p_value': 1.2683973772745866e-12,\n",
       "  'f_p_value': 1.032891605142017e-20,\n",
       "  'kruskal_p_value': 2.32123337780721e-25,\n",
       "  'spearman_p_value': 8.618372508872774e-20,\n",
       "  'chi2_p_value': 1.4644589064150566e-28}}"
      ]
     },
     "execution_count": 10,
     "metadata": {},
     "output_type": "execute_result"
    },
    {
     "data": {
      "text/plain": [
       "{'surgery_yes': {'t_p_value': 2.6708569391664884e-08,\n",
       "  'f_p_value': 1.1310574608146981e-07,\n",
       "  'kruskal_p_value': 1.3544514151456072e-07,\n",
       "  'spearman_p_value': 1.2116301406114933e-07,\n",
       "  'chi2_p_value': 1.3372037916999573e-07},\n",
       " 'age_young': {'t_p_value': 1.8961114266823646e-09,\n",
       "  'f_p_value': 5.376826490975489e-13,\n",
       "  'kruskal_p_value': 9.731099974497425e-13,\n",
       "  'spearman_p_value': 1.6503323710570138e-09,\n",
       "  'chi2_p_value': 9.515417931070396e-13},\n",
       " 'temp_of_extremities_cold': {'t_p_value': 0.00020772904344369743,\n",
       "  'f_p_value': 0.0004854149787979861,\n",
       "  'kruskal_p_value': 0.0005025821370904038,\n",
       "  'spearman_p_value': 0.00017061378524162326,\n",
       "  'chi2_p_value': 0.0004994980495606086},\n",
       " 'temp_of_extremities_cool': {'t_p_value': 1.0290755896467363e-09,\n",
       "  'f_p_value': 7.974705842440386e-16,\n",
       "  'kruskal_p_value': 1.9771053384282356e-15,\n",
       "  'spearman_p_value': 1.0221325221771695e-11,\n",
       "  'chi2_p_value': 1.923597091221245e-15},\n",
       " 'temp_of_extremities_normal': {'t_p_value': 1.9590822344679806e-15,\n",
       "  'f_p_value': 2.3174843162939446e-27,\n",
       "  'kruskal_p_value': 4.0441708266063494e-26,\n",
       "  'spearman_p_value': 4.6107513295834833e-20,\n",
       "  'chi2_p_value': 3.857017044297279e-26},\n",
       " 'temp_of_extremities_warm': {'t_p_value': 0.02815358719175592,\n",
       "  'f_p_value': 0.010720163667001669,\n",
       "  'kruskal_p_value': 0.010820554469231684,\n",
       "  'spearman_p_value': 0.010743420076099538,\n",
       "  'chi2_p_value': 0.010780937414605157}}"
      ]
     },
     "execution_count": 10,
     "metadata": {},
     "output_type": "execute_result"
    }
   ],
   "source": [
    "# Applies the statistical methods to the selected categorical variables, comparing label and one-hot encoding\n",
    "df_onehot_encoded['outcome_encoded'] = df['outcome_encoded']\n",
    "df_label_encoded['outcome_encoded'] = df['outcome_encoded']\n",
    "\n",
    "stat_results_label_encoded = {var: apply_statistical_tests(df_label_encoded, var, 'outcome_encoded') for var in selected_categorical_vars}\n",
    "stat_results_onehot_encoded = {var: apply_statistical_tests(df_onehot_encoded, var, 'outcome_encoded') for var in df_onehot_encoded.columns if var != 'outcome_encoded'}\n",
    "\n",
    "stat_results_label_encoded\n",
    "stat_results_onehot_encoded\n"
   ]
  },
  {
   "cell_type": "markdown",
   "metadata": {},
   "source": [
    "All tests showed very low p-values, suggesting that these variables have a statistically significant relationship with the outcome.\n",
    "\n",
    "The result is consistent for both Label Encoding and One-Hot Encoding, although One-Hot Encoding creates more columns.\n",
    "\n",
    "The strength of the relationship (indicated by Spearman coefficients) varies, but is generally moderate."
   ]
  }
 ],
 "metadata": {
  "kernelspec": {
   "display_name": "base",
   "language": "python",
   "name": "python3"
  },
  "language_info": {
   "codemirror_mode": {
    "name": "ipython",
    "version": 3
   },
   "file_extension": ".py",
   "mimetype": "text/x-python",
   "name": "python",
   "nbconvert_exporter": "python",
   "pygments_lexer": "ipython3",
   "version": "3.9.12"
  },
  "orig_nbformat": 4
 },
 "nbformat": 4,
 "nbformat_minor": 2
}
